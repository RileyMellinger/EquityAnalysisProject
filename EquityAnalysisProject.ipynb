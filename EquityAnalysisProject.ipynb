{
  "nbformat": 4,
  "nbformat_minor": 0,
  "metadata": {
    "colab": {
      "name": "PhaseIII.ipynb",
      "provenance": [],
      "collapsed_sections": []
    },
    "kernelspec": {
      "display_name": "Python 3",
      "language": "python",
      "name": "python3"
    },
    "language_info": {
      "codemirror_mode": {
        "name": "ipython",
        "version": 3
      },
      "file_extension": ".py",
      "mimetype": "text/x-python",
      "name": "python",
      "nbconvert_exporter": "python",
      "pygments_lexer": "ipython3",
      "version": "3.7.4"
    }
  },
  "cells": [
    {
      "cell_type": "markdown",
      "metadata": {
        "id": "GJ4Xt1uf1LT7"
      },
      "source": [
        "# Final Project Phase 3 Summary\n",
        "This Jupyter Notebook (.ipynb) will serve as the skeleton file for your submission for Phase 3 of the Final Project. Complete all sections below as specified in the instructions for the project, covering all necessary details. We will use this to grade your individual code (Do this whether you are in a group or not). Good luck! <br><br>\n",
        "\n",
        "Note: To edit a Markdown cell, double-click on its text."
      ]
    },
    {
      "cell_type": "markdown",
      "metadata": {
        "id": "JEtNzYHagmon"
      },
      "source": [
        ""
      ]
    },
    {
      "cell_type": "markdown",
      "metadata": {
        "id": "tjB_SbWY1LUB"
      },
      "source": [
        "## Jupyter Notebook Quick Tips\n",
        "Here are some quick formatting tips to get you started with Jupyter Notebooks. This is by no means exhaustive, and there are plenty of articles to highlight other things that can be done. We recommend using HTML syntax for Markdown but there is also Markdown syntax that is more streamlined and might be preferable. \n",
        "<a href = \"https://towardsdatascience.com/markdown-cells-jupyter-notebook-d3bea8416671\">Here's an article</a> that goes into more detail. (Double-click on cell to see syntax)\n",
        "\n",
        "# Heading 1\n",
        "## Heading 2\n",
        "### Heading 3\n",
        "#### Heading 4\n",
        "<br>\n",
        "<b>BoldText</b> or <i>ItalicText</i>\n",
        "<br> <br>\n",
        "Math Formulas: $x^2 + y^2 = 1$\n",
        "<br> <br>\n",
        "Line Breaks are done using br enclosed in < >.\n",
        "<br><br>\n",
        "Hyperlinks are done with: <a> https://www.google.com </a> or \n",
        "<a href=\"http://www.google.com\">Google</a><br>"
      ]
    },
    {
      "cell_type": "markdown",
      "metadata": {
        "id": "tb9oVjpRDswQ"
      },
      "source": [
        "# Data Collection and Cleaning\n",
        "\n",
        "\n",
        "Transfer/update the data collection and cleaning you created for Phase II below. You may include additional cleaning functions if you have extra datasets. If no changes are necessary, simply copy and paste your phase II parsing/cleaning functions.\n"
      ]
    },
    {
      "cell_type": "markdown",
      "metadata": {
        "id": "9mRjxZDbE1tj"
      },
      "source": [
        "## Downloaded Dataset Requirement\n",
        "\n"
      ]
    },
    {
      "cell_type": "code",
      "metadata": {
        "id": "0p5xxmqzFGrO",
        "colab": {
          "base_uri": "https://localhost:8080/",
          "height": 419
        },
        "outputId": "aeb60067-46c2-4fb4-da2f-4115f18ce364"
      },
      "source": [
        "import pandas as pd #pandas dataframe to collect and parse the data\n",
        "import gspread #our downloaded dataset is downloaded as a google sheet, so we need to use the gspread library to access the data\n",
        "from gspread_dataframe import set_with_dataframe\n",
        "from google.colab import auth #allows the colab to access the google sheet by verifying our google credentials\n",
        "from oauth2client.client import GoogleCredentials as GC\n",
        "import google_auth_oauthlib.flow\n",
        "import googleapiclient.discovery\n",
        "\n",
        "def data_parser():\n",
        "  auth.authenticate_user()\n",
        "  credentials = GC.get_application_default()\n",
        "  gc = gspread.authorize(credentials)\n",
        "  url = 'https://docs.google.com/spreadsheets/d/1q2KDY2JXTHBvAj5dH8jD64J9kRWjVUTSK3oKsB4dCPQ/edit#gid=0'\n",
        "  inputsheet = gc.open_by_url(url).sheet1 #get the sheet data\n",
        "\n",
        "  rows = inputsheet.get_all_values() #get the data into a list of lists\n",
        "  header = rows[0]# set header\n",
        "  rows.pop(0)#removes header so no duplicates\n",
        "  sp500 = pd.DataFrame(rows, columns = header)\n",
        "  sp500['Sector'] = sp500['Sector'].replace([''], 'Unknown') # For any blank sector labels, replaces it with Unknown\n",
        "\n",
        "  #Creates a google spreadsheet in our project folder and updates the spreadsheet with the sp500 Dataframe\n",
        "  title = 'sp500'\n",
        "  #gc.create(title) #only needed to run once and now it just updates the same sheet\n",
        "  outputsheet = gc.open(title).sheet1\n",
        "  outputsheet.clear()\n",
        "  set_with_dataframe(outputsheet, sp500)\n",
        "\n",
        "  return sp500\n",
        "############ Function Call ############\n",
        "data_parser()"
      ],
      "execution_count": null,
      "outputs": [
        {
          "output_type": "execute_result",
          "data": {
            "text/html": [
              "<div>\n",
              "<style scoped>\n",
              "    .dataframe tbody tr th:only-of-type {\n",
              "        vertical-align: middle;\n",
              "    }\n",
              "\n",
              "    .dataframe tbody tr th {\n",
              "        vertical-align: top;\n",
              "    }\n",
              "\n",
              "    .dataframe thead th {\n",
              "        text-align: right;\n",
              "    }\n",
              "</style>\n",
              "<table border=\"1\" class=\"dataframe\">\n",
              "  <thead>\n",
              "    <tr style=\"text-align: right;\">\n",
              "      <th></th>\n",
              "      <th>Symbol</th>\n",
              "      <th>Name</th>\n",
              "      <th>Sector</th>\n",
              "    </tr>\n",
              "  </thead>\n",
              "  <tbody>\n",
              "    <tr>\n",
              "      <th>0</th>\n",
              "      <td>MMM</td>\n",
              "      <td>3M Company</td>\n",
              "      <td>Industrials</td>\n",
              "    </tr>\n",
              "    <tr>\n",
              "      <th>1</th>\n",
              "      <td>AOS</td>\n",
              "      <td>A.O. Smith Corp</td>\n",
              "      <td>Industrials</td>\n",
              "    </tr>\n",
              "    <tr>\n",
              "      <th>2</th>\n",
              "      <td>ABT</td>\n",
              "      <td>Abbott Laboratories</td>\n",
              "      <td>Health Care</td>\n",
              "    </tr>\n",
              "    <tr>\n",
              "      <th>3</th>\n",
              "      <td>ABBV</td>\n",
              "      <td>AbbVie Inc.</td>\n",
              "      <td>Health Care</td>\n",
              "    </tr>\n",
              "    <tr>\n",
              "      <th>4</th>\n",
              "      <td>ABMD</td>\n",
              "      <td>Abiomed</td>\n",
              "      <td>Health Care</td>\n",
              "    </tr>\n",
              "    <tr>\n",
              "      <th>...</th>\n",
              "      <td>...</td>\n",
              "      <td>...</td>\n",
              "      <td>...</td>\n",
              "    </tr>\n",
              "    <tr>\n",
              "      <th>500</th>\n",
              "      <td>YUM</td>\n",
              "      <td>Yum! Brands Inc</td>\n",
              "      <td>Consumer Discretionary</td>\n",
              "    </tr>\n",
              "    <tr>\n",
              "      <th>501</th>\n",
              "      <td>ZBRA</td>\n",
              "      <td>Zebra Technologies</td>\n",
              "      <td>Information Technology</td>\n",
              "    </tr>\n",
              "    <tr>\n",
              "      <th>502</th>\n",
              "      <td>ZBH</td>\n",
              "      <td>Zimmer Biomet</td>\n",
              "      <td>Health Care</td>\n",
              "    </tr>\n",
              "    <tr>\n",
              "      <th>503</th>\n",
              "      <td>ZION</td>\n",
              "      <td>Zions Bancorp</td>\n",
              "      <td>Financials</td>\n",
              "    </tr>\n",
              "    <tr>\n",
              "      <th>504</th>\n",
              "      <td>ZTS</td>\n",
              "      <td>Zoetis</td>\n",
              "      <td>Health Care</td>\n",
              "    </tr>\n",
              "  </tbody>\n",
              "</table>\n",
              "<p>505 rows × 3 columns</p>\n",
              "</div>"
            ],
            "text/plain": [
              "    Symbol                 Name                  Sector\n",
              "0      MMM           3M Company             Industrials\n",
              "1      AOS      A.O. Smith Corp             Industrials\n",
              "2      ABT  Abbott Laboratories             Health Care\n",
              "3     ABBV          AbbVie Inc.             Health Care\n",
              "4     ABMD              Abiomed             Health Care\n",
              "..     ...                  ...                     ...\n",
              "500    YUM      Yum! Brands Inc  Consumer Discretionary\n",
              "501   ZBRA   Zebra Technologies  Information Technology\n",
              "502    ZBH        Zimmer Biomet             Health Care\n",
              "503   ZION        Zions Bancorp              Financials\n",
              "504    ZTS               Zoetis             Health Care\n",
              "\n",
              "[505 rows x 3 columns]"
            ]
          },
          "metadata": {
            "tags": []
          },
          "execution_count": 11
        }
      ]
    },
    {
      "cell_type": "markdown",
      "metadata": {
        "id": "794L4vGXFdYw"
      },
      "source": [
        "## Web Collection Requirement \\#1\n"
      ]
    },
    {
      "cell_type": "code",
      "metadata": {
        "id": "vXwpJObDFiWM",
        "colab": {
          "base_uri": "https://localhost:8080/"
        },
        "outputId": "f67c0d25-d1ce-457e-d57b-69578cb12b72"
      },
      "source": [
        "import pandas as pd #pandas dataframe to collect and parse the data\n",
        "import pandas_datareader as web #imports pandas_datareader to collect the stock data from online\n",
        "import gspread #our downloaded dataset is downloaded as a google sheet, so we need to use the gspread library to access the data\n",
        "from gspread_dataframe import set_with_dataframe\n",
        "from google.colab import auth #allows the colab to access the google sheet by verifying our google credentials\n",
        "from oauth2client.client import GoogleCredentials as GC\n",
        "import google_auth_oauthlib.flow\n",
        "import googleapiclient.discovery\n",
        "\n",
        "def web_parser1(ticker_list, st, en):\n",
        "\n",
        "  prices = pd.DataFrame()\n",
        "\n",
        "  for ticker in ticker_list:\n",
        "\n",
        "    #gets historical price data for the company including the date, open, high, low, close, adjusted close, volume\n",
        "    stock_data = web.DataReader(ticker, 'yahoo', st, en) \n",
        "\n",
        "    #makes a dataframe of only the adjusted close data so we can compare the returns\n",
        "    prices[str(ticker)] = stock_data['Adj Close'] \n",
        "\n",
        "  '''\n",
        "  Since we have scraped the price data we need to find the daily returns of the stocks since our end goal is to find the correlation between them\n",
        "  We do this using the methods .iloc() and .pct_change()\n",
        "  We then have to clean the data using .dropna() because otherwise the first row would be 'NaN'\n",
        "\n",
        "  '''\n",
        "  returns = pd.DataFrame()\n",
        "  returns = prices.iloc[((len(prices.index)-1)%1)::1, :].pct_change().dropna()\n",
        "\n",
        "  auth.authenticate_user()\n",
        "  credentials = GC.get_application_default()\n",
        "  gc = gspread.authorize(credentials)\n",
        "\n",
        "  #Creates a google spreadsheet in our project folder and updates the spreadsheet with the prices Dataframe\n",
        "  title = 'prices'\n",
        "  #gc.create(title) #only needed to run once and now it just updates the same sheet\n",
        "  outputsheet = gc.open(title).sheet1\n",
        "  outputsheet.clear()\n",
        "  set_with_dataframe(outputsheet, prices, include_index=True)\n",
        "\n",
        "  #Creates a google spreadsheet in our project folder and updates the spreadsheet with the returns Dataframe\n",
        "  title = 'returns'\n",
        "  #gc.create(title) #only needed to run once and now it just updates the same sheet\n",
        "  outputsheet = gc.open(title).sheet1\n",
        "  outputsheet.clear()\n",
        "  set_with_dataframe(outputsheet, returns, include_index=True)\n",
        "  \n",
        "  return returns, prices\n",
        "############ Function Call ############\n",
        "web_parser1(['aapl', 'amzn'], '2020-1-1', '2021-1-1')"
      ],
      "execution_count": null,
      "outputs": [
        {
          "output_type": "execute_result",
          "data": {
            "text/plain": [
              "(                aapl      amzn\n",
              " Date                          \n",
              " 2020-01-03 -0.009722 -0.012139\n",
              " 2020-01-06  0.007968  0.014886\n",
              " 2020-01-07 -0.004703  0.002092\n",
              " 2020-01-08  0.016086 -0.007809\n",
              " 2020-01-09  0.021241  0.004799\n",
              " ...              ...       ...\n",
              " 2020-12-24  0.007712 -0.003949\n",
              " 2020-12-28  0.035766  0.035071\n",
              " 2020-12-29 -0.013315  0.011584\n",
              " 2020-12-30 -0.008527 -0.010882\n",
              " 2020-12-31 -0.007703 -0.008801\n",
              " \n",
              " [252 rows x 2 columns],                   aapl         amzn\n",
              " Date                               \n",
              " 2020-01-02   74.333511  1898.010010\n",
              " 2020-01-03   73.610840  1874.969971\n",
              " 2020-01-06   74.197395  1902.880005\n",
              " 2020-01-07   73.848442  1906.859985\n",
              " 2020-01-08   75.036385  1891.969971\n",
              " ...                ...          ...\n",
              " 2020-12-24  131.773087  3172.689941\n",
              " 2020-12-28  136.486053  3283.959961\n",
              " 2020-12-29  134.668762  3322.000000\n",
              " 2020-12-30  133.520477  3285.850098\n",
              " 2020-12-31  132.492020  3256.929932\n",
              " \n",
              " [253 rows x 2 columns])"
            ]
          },
          "metadata": {
            "tags": []
          },
          "execution_count": 4
        }
      ]
    },
    {
      "cell_type": "markdown",
      "metadata": {
        "id": "OTRqdBG6sSvu"
      },
      "source": [
        "## Web Collection Requirement #2"
      ]
    },
    {
      "cell_type": "code",
      "metadata": {
        "id": "YtV_MYeusYDd",
        "colab": {
          "base_uri": "https://localhost:8080/",
          "height": 572
        },
        "outputId": "71b8ac2a-0008-4366-b5ef-f25f6ca75eca"
      },
      "source": [
        "!pip install tiingo\n",
        "\n",
        "import pandas as pd #pandas dataframe to collect and parse the data\n",
        "import pandas_datareader as web #imports pandas_datareader to collect the stock data from online\n",
        "import gspread #our downloaded dataset is downloaded as a google sheet, so we need to use the gspread library to access the data\n",
        "from gspread_dataframe import set_with_dataframe\n",
        "from google.colab import auth #allows the colab to access the google sheet by verifying our google credentials\n",
        "from oauth2client.client import GoogleCredentials as GC\n",
        "import google_auth_oauthlib.flow\n",
        "import googleapiclient.discovery\n",
        "import os\n",
        "from tiingo import TiingoClient\n",
        "\n",
        "auth.authenticate_user() #authenticating google sheets\n",
        "credentials = GC.get_application_default()\n",
        "gc = gspread.authorize(credentials)\n",
        "\n",
        "def web_parser2(ticker, st, en, metric):\n",
        "  config = {}\n",
        "  config['session'] = True\n",
        "  config['api_key'] = '917582d06669379cc3d3f4c10fd9e012923f05d7'\n",
        "  client = TiingoClient(config)\n",
        "  ticker_data = client.get_dataframe(ticker, frequency='daily', metric_name= metric, startDate=st,endDate=en)\n",
        "  ticker_data.index = pd.DatetimeIndex(ticker_data.index).date #cleaning the time off the index of the dataset\n",
        "  final_data = pd.DataFrame(data = ticker_data)\n",
        "  final_data.columns = [ticker]\n",
        "  #Creates a google spreadsheet in our project folder and updates the spreadsheet with the returns Dataframe\n",
        "  title = 'tiingo data'\n",
        "  #gc.create(title) #only needed to run once and now it just updates the same sheet\n",
        "  outputsheet = gc.open(title).sheet1\n",
        "  outputsheet.clear()\n",
        "  set_with_dataframe(outputsheet, final_data, include_index=True)\n",
        "  return final_data\n",
        "  \n",
        "############ Function Call ############\n",
        "web_parser2('AAPL', '2020-1-1', '2021-1-1', 'volume')"
      ],
      "execution_count": null,
      "outputs": [
        {
          "output_type": "stream",
          "text": [
            "Collecting tiingo\n",
            "  Downloading https://files.pythonhosted.org/packages/9d/36/e17a5bc90540e9e79aeb808d8efea7e91cb3405d034f2df65f0093be4a80/tiingo-0.14.0-py2.py3-none-any.whl\n",
            "Requirement already satisfied: requests in /usr/local/lib/python3.7/dist-packages (from tiingo) (2.23.0)\n",
            "Requirement already satisfied: idna<3,>=2.5 in /usr/local/lib/python3.7/dist-packages (from requests->tiingo) (2.10)\n",
            "Requirement already satisfied: chardet<4,>=3.0.2 in /usr/local/lib/python3.7/dist-packages (from requests->tiingo) (3.0.4)\n",
            "Requirement already satisfied: certifi>=2017.4.17 in /usr/local/lib/python3.7/dist-packages (from requests->tiingo) (2020.12.5)\n",
            "Requirement already satisfied: urllib3!=1.25.0,!=1.25.1,<1.26,>=1.21.1 in /usr/local/lib/python3.7/dist-packages (from requests->tiingo) (1.24.3)\n",
            "Installing collected packages: tiingo\n",
            "Successfully installed tiingo-0.14.0\n"
          ],
          "name": "stdout"
        },
        {
          "output_type": "execute_result",
          "data": {
            "text/html": [
              "<div>\n",
              "<style scoped>\n",
              "    .dataframe tbody tr th:only-of-type {\n",
              "        vertical-align: middle;\n",
              "    }\n",
              "\n",
              "    .dataframe tbody tr th {\n",
              "        vertical-align: top;\n",
              "    }\n",
              "\n",
              "    .dataframe thead th {\n",
              "        text-align: right;\n",
              "    }\n",
              "</style>\n",
              "<table border=\"1\" class=\"dataframe\">\n",
              "  <thead>\n",
              "    <tr style=\"text-align: right;\">\n",
              "      <th></th>\n",
              "      <th>AAPL</th>\n",
              "    </tr>\n",
              "  </thead>\n",
              "  <tbody>\n",
              "    <tr>\n",
              "      <th>2020-01-02</th>\n",
              "      <td>33911864</td>\n",
              "    </tr>\n",
              "    <tr>\n",
              "      <th>2020-01-03</th>\n",
              "      <td>36633878</td>\n",
              "    </tr>\n",
              "    <tr>\n",
              "      <th>2020-01-06</th>\n",
              "      <td>29644644</td>\n",
              "    </tr>\n",
              "    <tr>\n",
              "      <th>2020-01-07</th>\n",
              "      <td>27877655</td>\n",
              "    </tr>\n",
              "    <tr>\n",
              "      <th>2020-01-08</th>\n",
              "      <td>33090946</td>\n",
              "    </tr>\n",
              "    <tr>\n",
              "      <th>...</th>\n",
              "      <td>...</td>\n",
              "    </tr>\n",
              "    <tr>\n",
              "      <th>2020-12-24</th>\n",
              "      <td>54930064</td>\n",
              "    </tr>\n",
              "    <tr>\n",
              "      <th>2020-12-28</th>\n",
              "      <td>123124632</td>\n",
              "    </tr>\n",
              "    <tr>\n",
              "      <th>2020-12-29</th>\n",
              "      <td>121047324</td>\n",
              "    </tr>\n",
              "    <tr>\n",
              "      <th>2020-12-30</th>\n",
              "      <td>96452124</td>\n",
              "    </tr>\n",
              "    <tr>\n",
              "      <th>2020-12-31</th>\n",
              "      <td>99116586</td>\n",
              "    </tr>\n",
              "  </tbody>\n",
              "</table>\n",
              "<p>253 rows × 1 columns</p>\n",
              "</div>"
            ],
            "text/plain": [
              "                 AAPL\n",
              "2020-01-02   33911864\n",
              "2020-01-03   36633878\n",
              "2020-01-06   29644644\n",
              "2020-01-07   27877655\n",
              "2020-01-08   33090946\n",
              "...               ...\n",
              "2020-12-24   54930064\n",
              "2020-12-28  123124632\n",
              "2020-12-29  121047324\n",
              "2020-12-30   96452124\n",
              "2020-12-31   99116586\n",
              "\n",
              "[253 rows x 1 columns]"
            ]
          },
          "metadata": {
            "tags": []
          },
          "execution_count": 16
        }
      ]
    },
    {
      "cell_type": "markdown",
      "metadata": {
        "id": "E5IgIeLI9Kw2"
      },
      "source": [
        "#Inconsistency Revisions\n",
        " **If you were requested to revise your inconsistency section from Phase II, enter your responses here. Otherwise, ignore this section.**\n",
        "\n",
        "For each inconsistency (NaN, null, duplicate values, empty strings, etc.) you discover in your datasets, write at least 2 sentences stating the significance, how you identified it, and how you handled it.\n",
        "\n",
        "1. \n",
        "\n",
        "2. \n",
        "\n",
        "3. \n",
        "\n",
        "4. (if applicable)\n",
        "\n",
        "5. (if applicable)\n"
      ]
    },
    {
      "cell_type": "markdown",
      "metadata": {
        "id": "8SQxJGDUs1gw"
      },
      "source": [
        "## Data Sources\n",
        "\n",
        "Include sources (as links) to your datasets. If any of these are different from your sources used in Phase II, please <b>clearly</b> specify.\n",
        "\n",
        "*   Downloaded Dataset Source:\n",
        "*   Web Collection #1 Source:\n",
        "*   Web Collection #2 Source:\n",
        "\n"
      ]
    },
    {
      "cell_type": "markdown",
      "metadata": {
        "id": "A-CWo6kwvFvS"
      },
      "source": [
        "# Data Analysis\n",
        "For the Data Analysis section, you are required to utilize your data to complete the following:\n",
        "\n",
        "*   Create at least 5 insights\n",
        "*   Generate at least 3 data visualizations\n",
        "*   Export aggregated data to at least 1 summary file \n",
        "\n",
        "Create a function for each of the following sections mentioned above. Do not forget to fill out the explanation section for each function. \n",
        "\n",
        "Make sure your data analysis is not too simple. Performing complex aggregation and using modules not taught in class shows effort, which will increase the chance of receiving full credit. "
      ]
    },
    {
      "cell_type": "markdown",
      "metadata": {
        "id": "7GzggCBoxwGA"
      },
      "source": [
        "# Graphical User Interface (GUI) Implementation\n",
        "If you decide to create a GUI for Phase II, please create a separate Python file (.py) to build your GUI. You must submit both the completed PhaseII.ipynb and your Python GUI file."
      ]
    },
    {
      "cell_type": "markdown",
      "metadata": {
        "id": "VWv36q-Owkbi"
      },
      "source": [
        "## Insights"
      ]
    },
    {
      "cell_type": "code",
      "metadata": {
        "id": "0J5Z3M84wmaY",
        "colab": {
          "base_uri": "https://localhost:8080/",
          "height": 244
        },
        "outputId": "c33a04ec-9177-4af4-8dae-012f1c217af6"
      },
      "source": [
        "import datetime as dt\n",
        "\n",
        "def insight1():\n",
        "  n = int(input(\"Enter number of stocks to compare: \"))\n",
        "  tckr_list = []\n",
        "  # iterates for each tckr\n",
        "  for i in range(n):\n",
        "      ele = input(\"Ticker \" + str(i+1) + \": \")\n",
        "      tckr_list.append(ele.upper())  # adding the element\n",
        "  start = dt.datetime.strptime(input(\"Enter the starting date(YYYY-MM-DD): \"), '%Y-%m-%d')\n",
        "  end = dt.datetime.strptime(input(\"Enter the ending date(YYYY-MM-DD): \"), '%Y-%m-%d')\n",
        "  returns, prices = web_parser1(tckr_list, start, end)\n",
        "  correlation_df = returns.corr(method='pearson')\n",
        "  for row in range(len(tckr_list)):\n",
        "    for col in range(len(tckr_list)):\n",
        "      if col < row:\n",
        "        correlation_df.iloc[row, col] = \"\"\n",
        "  return correlation_df\n",
        "  \n",
        "############ Function Call ############\n",
        "insight1()"
      ],
      "execution_count": null,
      "outputs": [
        {
          "output_type": "stream",
          "text": [
            "Enter number of stocks to compare: 3\n",
            "Ticker 1: fb\n",
            "Ticker 2: aapl\n",
            "Ticker 3: amzn\n",
            "Enter the starting date(YYYY-MM-DD): 2020-01-01\n",
            "Enter the ending date(YYYY-MM-DD): 2021-01-01\n"
          ],
          "name": "stdout"
        },
        {
          "output_type": "execute_result",
          "data": {
            "text/html": [
              "<div>\n",
              "<style scoped>\n",
              "    .dataframe tbody tr th:only-of-type {\n",
              "        vertical-align: middle;\n",
              "    }\n",
              "\n",
              "    .dataframe tbody tr th {\n",
              "        vertical-align: top;\n",
              "    }\n",
              "\n",
              "    .dataframe thead th {\n",
              "        text-align: right;\n",
              "    }\n",
              "</style>\n",
              "<table border=\"1\" class=\"dataframe\">\n",
              "  <thead>\n",
              "    <tr style=\"text-align: right;\">\n",
              "      <th></th>\n",
              "      <th>FB</th>\n",
              "      <th>AAPL</th>\n",
              "      <th>AMZN</th>\n",
              "    </tr>\n",
              "  </thead>\n",
              "  <tbody>\n",
              "    <tr>\n",
              "      <th>FB</th>\n",
              "      <td>1</td>\n",
              "      <td>0.767148</td>\n",
              "      <td>0.681523</td>\n",
              "    </tr>\n",
              "    <tr>\n",
              "      <th>AAPL</th>\n",
              "      <td></td>\n",
              "      <td>1</td>\n",
              "      <td>0.697236</td>\n",
              "    </tr>\n",
              "    <tr>\n",
              "      <th>AMZN</th>\n",
              "      <td></td>\n",
              "      <td></td>\n",
              "      <td>1.000000</td>\n",
              "    </tr>\n",
              "  </tbody>\n",
              "</table>\n",
              "</div>"
            ],
            "text/plain": [
              "     FB      AAPL      AMZN\n",
              "FB    1  0.767148  0.681523\n",
              "AAPL            1  0.697236\n",
              "AMZN               1.000000"
            ]
          },
          "metadata": {
            "tags": []
          },
          "execution_count": 20
        }
      ]
    },
    {
      "cell_type": "markdown",
      "metadata": {
        "id": "54oggrpbw6TX"
      },
      "source": [
        "### Insight 1 Explanation\n",
        "\n",
        "This function provides insight on the correlation between each stock. To get the output the user must input information first. This information includes: the number of stock they wish to compare, each stock ticker, the start and end date for the correlation calculation. Once this information has been inputed by the user, the function uses the returns from web_parse1 to generate the correlation matrix. This is acheived by using the .corr(method = 'pearson') method which provides the standard correlation coeffeecient between each stock. This information is extremely valuable when determining portfolio allocation in finance as you generally do not want all of your stocks to be exactly correlated.\n",
        "\n"
      ]
    },
    {
      "cell_type": "code",
      "metadata": {
        "id": "mJe4pMRgwuC5",
        "colab": {
          "base_uri": "https://localhost:8080/",
          "height": 86
        },
        "outputId": "d6e0f965-e34b-4aaf-9798-fb182ff91593"
      },
      "source": [
        "import numpy as np\n",
        "import datetime as dt\n",
        "\n",
        "def insight2():\n",
        "  tckr_list = ['SPY']\n",
        "  tckr = input(\"Input ticker of stock to find the Beta: \")\n",
        "  tckr_list.append(tckr)\n",
        "  start = dt.datetime.strptime(input(\"Enter the starting date(YYYY-MM-DD): \"), '%Y-%m-%d')\n",
        "  end = dt.datetime.strptime(input(\"Enter the ending date(YYYY-MM-DD): \"), '%Y-%m-%d')\n",
        "  returns, prices = web_parser1(tckr_list, start, end)\n",
        "  correlation = returns.corr(method='pearson')\n",
        "  corrcoef = correlation.iloc[0][tckr]\n",
        "  std_stock = np.std(returns[tckr])\n",
        "  std_spy = np.std(returns['SPY'])\n",
        "  beta = corrcoef *(std_stock/std_spy)\n",
        "  output = 'Beta of ' + tckr + ' = ' + str(beta)\n",
        "  return output\n",
        "############ Function Call ############\n",
        "insight2()"
      ],
      "execution_count": null,
      "outputs": [
        {
          "output_type": "stream",
          "text": [
            "Input ticker of stock to find the Beta: AAPL\n",
            "Enter the starting date(YYYY-MM-DD): 2020-1-1\n",
            "Enter the ending date(YYYY-MM-DD): 2021-1-1\n"
          ],
          "name": "stdout"
        },
        {
          "output_type": "execute_result",
          "data": {
            "application/vnd.google.colaboratory.intrinsic+json": {
              "type": "string"
            },
            "text/plain": [
              "'Beta of AAPL = 1.1570794769938433'"
            ]
          },
          "metadata": {
            "tags": []
          },
          "execution_count": 53
        }
      ]
    },
    {
      "cell_type": "markdown",
      "metadata": {
        "id": "P08Se47bxG5d"
      },
      "source": [
        "### Insight 2 Explanation\n",
        "\n",
        "This function provides insight on the beta value between each stock. To get the output the user must input information first. This information includes: the stock they wish to find the beta of the start and end date for the beta calculation. Once this information has been inputed by the user, the function uses the returns from web_parse1 to generate the  correlation coeffeecient similar to insight 1. We then use numpy to find the standard deviation of the stock and the market index, we used SPY. This information is extremely valuable when determining how much risk or volatily is involved in a certain stock. Typically, if beta > 1 the stock has more volatilty and if beta < 1 the stock has less volatilty than the market."
      ]
    },
    {
      "cell_type": "code",
      "metadata": {
        "id": "00EurEXJwvxf",
        "colab": {
          "base_uri": "https://localhost:8080/"
        },
        "outputId": "4fed8938-3d23-403d-a3d5-7f0e9754d208"
      },
      "source": [
        "import datetime as dt\n",
        "\n",
        "def insight3():\n",
        "  n = int(input(\"Enter number of stocks to compare: \"))\n",
        "  tckr_list = []\n",
        "  # iterates for each tckr\n",
        "  for i in range(n):\n",
        "      ele = input(\"Ticker \" + str(i+1) + \": \")\n",
        "      tckr_list.append(ele.upper())  # adding the element\n",
        "  start =  dt.datetime.strptime(input(\"Enter the starting date(YYYY-MM-DD): \"), '%Y-%m-%d')\n",
        "  end = dt.datetime.strptime(input(\"Enter the ending date(YYYY-MM-DD): \"), '%Y-%m-%d')\n",
        "  average_dict = {}\n",
        "  for i in tckr_list:\n",
        "    avg = web_parser2(i, start, end, 'volume')[i].mean()\n",
        "    average_dict[i] = avg\n",
        "\n",
        "  return average_dict\n",
        "############ Function Call ############\n",
        "insight3()"
      ],
      "execution_count": null,
      "outputs": [
        {
          "output_type": "stream",
          "text": [
            "Enter number of stocks to compare: 4\n",
            "Ticker 1: aapl\n",
            "Ticker 2: msft\n",
            "Ticker 3: amzn\n",
            "Ticker 4: sq\n",
            "Enter the starting date(YYYY-MM-DD): 2020-1-1\n",
            "Enter the ending date(YYYY-MM-DD): 2021-1-1\n"
          ],
          "name": "stdout"
        },
        {
          "output_type": "execute_result",
          "data": {
            "text/plain": [
              "{'AAPL': 73330367.3715415,\n",
              " 'AMZN': 4930845.628458498,\n",
              " 'MSFT': 37649231.023715414,\n",
              " 'SQ': 12169482.272727273}"
            ]
          },
          "metadata": {
            "tags": []
          },
          "execution_count": 77
        }
      ]
    },
    {
      "cell_type": "markdown",
      "metadata": {
        "id": "6QNP4yx2xHkT"
      },
      "source": [
        "### Insight 3 Explanation\n",
        "\n",
        "This function provides insight on the average daily volume between each stock. To get the output the user must input information first. This information includes: the number of stock they wish to compare, each stock ticker, the start and end date for the calculation. Once this information has been inputed by the user, the function uses web_parse2 to get the volume data for each stock. We then used the built in pandas dataframe method .mean() to get the average of the volume between the start and end date. This information is extremely valuable when determining whether to invest in a certain stock or not, because if a stock does not have adequate liquidity you may not be able to buy or sell the stock.\n"
      ]
    },
    {
      "cell_type": "code",
      "metadata": {
        "id": "LUWgj50BwwKN",
        "colab": {
          "base_uri": "https://localhost:8080/",
          "height": 306
        },
        "outputId": "6d19b7ba-ccfe-4316-c393-ff19362e15b1"
      },
      "source": [
        "def insight4():\n",
        "  sp500 = data_parser()\n",
        "  n = int(input(\"Enter number of stocks to identify: \"))\n",
        "  tckr_list = []\n",
        "  # iterates for each tckr\n",
        "  for i in range(n):\n",
        "      ele = input(\"Ticker \" + str(i+1) + \": \")\n",
        "      tckr_list.append(ele.upper())  # adding the element\n",
        "  s_list = sp500.values.tolist()\n",
        "  final_list = []\n",
        "  rows = []\n",
        "  for tckr in tckr_list:\n",
        "    exists = False\n",
        "    for row in s_list:\n",
        "      if tckr in row:\n",
        "        exists = True\n",
        "        rows.append(row)\n",
        "        break\n",
        "    if exists == False:\n",
        "      rows.append([tckr, 'Not in the S&P 500', 'Not in the S&P 500'])\n",
        "\n",
        "  final_df = pd.DataFrame(rows, columns = ['Symbol', 'Name', 'Sector'])\n",
        "  return final_df\n",
        "\n",
        "############ Function Call ############\n",
        "insight4()"
      ],
      "execution_count": null,
      "outputs": [
        {
          "output_type": "stream",
          "text": [
            "Enter number of stocks to identify: 5\n",
            "Ticker 1: aapl\n",
            "Ticker 2: lulu\n",
            "Ticker 3: amzn\n",
            "Ticker 4: pltr\n",
            "Ticker 5: mmm\n"
          ],
          "name": "stdout"
        },
        {
          "output_type": "execute_result",
          "data": {
            "text/html": [
              "<div>\n",
              "<style scoped>\n",
              "    .dataframe tbody tr th:only-of-type {\n",
              "        vertical-align: middle;\n",
              "    }\n",
              "\n",
              "    .dataframe tbody tr th {\n",
              "        vertical-align: top;\n",
              "    }\n",
              "\n",
              "    .dataframe thead th {\n",
              "        text-align: right;\n",
              "    }\n",
              "</style>\n",
              "<table border=\"1\" class=\"dataframe\">\n",
              "  <thead>\n",
              "    <tr style=\"text-align: right;\">\n",
              "      <th></th>\n",
              "      <th>Symbol</th>\n",
              "      <th>Name</th>\n",
              "      <th>Sector</th>\n",
              "    </tr>\n",
              "  </thead>\n",
              "  <tbody>\n",
              "    <tr>\n",
              "      <th>0</th>\n",
              "      <td>AAPL</td>\n",
              "      <td>Apple Inc.</td>\n",
              "      <td>Information Technology</td>\n",
              "    </tr>\n",
              "    <tr>\n",
              "      <th>1</th>\n",
              "      <td>LULU</td>\n",
              "      <td>Not in the S&amp;P 500</td>\n",
              "      <td>Not in the S&amp;P 500</td>\n",
              "    </tr>\n",
              "    <tr>\n",
              "      <th>2</th>\n",
              "      <td>AMZN</td>\n",
              "      <td>Amazon.com Inc.</td>\n",
              "      <td>Consumer Discretionary</td>\n",
              "    </tr>\n",
              "    <tr>\n",
              "      <th>3</th>\n",
              "      <td>PLTR</td>\n",
              "      <td>Not in the S&amp;P 500</td>\n",
              "      <td>Not in the S&amp;P 500</td>\n",
              "    </tr>\n",
              "    <tr>\n",
              "      <th>4</th>\n",
              "      <td>MMM</td>\n",
              "      <td>3M Company</td>\n",
              "      <td>Industrials</td>\n",
              "    </tr>\n",
              "  </tbody>\n",
              "</table>\n",
              "</div>"
            ],
            "text/plain": [
              "  Symbol                Name                  Sector\n",
              "0   AAPL          Apple Inc.  Information Technology\n",
              "1   LULU  Not in the S&P 500      Not in the S&P 500\n",
              "2   AMZN     Amazon.com Inc.  Consumer Discretionary\n",
              "3   PLTR  Not in the S&P 500      Not in the S&P 500\n",
              "4    MMM          3M Company             Industrials"
            ]
          },
          "metadata": {
            "tags": []
          },
          "execution_count": 12
        }
      ]
    },
    {
      "cell_type": "markdown",
      "metadata": {
        "id": "4Tv4xPG8xIIh"
      },
      "source": [
        "### Insight 4 Explanation\n",
        "\n",
        "This function provides determines if a certains stock is in the S&P 500. To get the output the user must input information first. This information includes: the number of stock they wish to compare and each stock ticker. Once this information has been inputed by the user, the function uses the uses data_parser() to get a list of the S&P 500 stocks. We then iterate through the list of stock tickers the user provided and check if they are in the S&P 500 list. If the ticker is in the list, the function adds a row including the ticker, the name of the company, and the sector of the company to the output data frame. If the ticker is not in the list, it adds a row including the ticker and a string of 'Not in the S&P 500' for each column. This information is extremely valuable when determining what stocks to invest in. The S&P 500 is an index of the 500 largest publicly traded companies in the United States. It is helpful to identify if a company is in the S&P500 as these companies are often stable investments and usually considered 'blue chips' in the stock market."
      ]
    },
    {
      "cell_type": "code",
      "metadata": {
        "id": "-2YUtUESwwgv",
        "colab": {
          "base_uri": "https://localhost:8080/"
        },
        "outputId": "9f363268-b092-45b5-d9a4-cf52b1176050"
      },
      "source": [
        "import datetime as dt\n",
        "import numpy as np\n",
        "import pandas as pd\n",
        "\n",
        "def insight5():\n",
        "  n = int(input(\"Enter number of stocks to compare: \"))\n",
        "  tckr_list = []\n",
        "  # iterates for each tckr\n",
        "  for i in range(n):\n",
        "      ele = input(\"Ticker \" + str(i+1) + \": \")\n",
        "      tckr_list.append(ele.upper())  # adding the element\n",
        "  start = dt.datetime.strptime(input(\"Enter the starting date(YYYY-MM-DD): \"), '%Y-%m-%d')\n",
        "  end = dt.datetime.strptime(input(\"Enter the ending date(YYYY-MM-DD): \"), '%Y-%m-%d')\n",
        "  average_dict = {}\n",
        "  for i in tckr_list:\n",
        "     div = web_parser2(i, start, end, 'divCash')\n",
        "     price = web_parser2(i, start, end, 'adjClose')\n",
        "     df = pd.concat([div, price], axis = 1, names = None)\n",
        "     df = df.replace(0.0, np.nan).dropna()\n",
        "     if df.empty:\n",
        "       print(i + ' Does not pay a dividend')\n",
        "       continue\n",
        "     df.columns = [i + ' Dividend Cash', i + ' Price']\n",
        "     df[i + ' Q Dividend Yield'] = (df[i + ' Dividend Cash']*4)/df[i + ' Price']\n",
        "     print(df)\n",
        "\n",
        "############ Function Call ############\n",
        "insight5()"
      ],
      "execution_count": null,
      "outputs": [
        {
          "output_type": "stream",
          "text": [
            "Enter number of stocks to compare: 5\n",
            "Ticker 1: aapl\n",
            "Ticker 2: amzn\n",
            "Ticker 3: jpm\n",
            "Ticker 4: googl\n",
            "Ticker 5: ko\n",
            "Enter the starting date(YYYY-MM-DD): 2020-1-1\n",
            "Enter the ending date(YYYY-MM-DD): 2021-1-1\n",
            "            AAPL Dividend Cash  AAPL Price  AAPL Q Dividend Yield\n",
            "2020-02-07               0.770   79.393221               0.038794\n",
            "2020-05-08               0.820   77.140650               0.042520\n",
            "2020-08-07               0.820  110.754900               0.029615\n",
            "2020-11-06               0.205  118.512353               0.006919\n",
            "AMZN Does not pay a dividend\n",
            "            JPM Dividend Cash   JPM Price  JPM Q Dividend Yield\n",
            "2020-01-03                0.9  132.604689              0.027148\n",
            "2020-04-03                0.9   81.428136              0.044211\n",
            "2020-07-02                0.9   90.641480              0.039717\n",
            "2020-10-05                0.9   97.762891              0.036824\n",
            "GOOGL Does not pay a dividend\n",
            "            KO Dividend Cash   KO Price  KO Q Dividend Yield\n",
            "2020-03-13              0.41  46.886117             0.034978\n",
            "2020-06-12              0.41  44.506504             0.036849\n",
            "2020-09-14              0.41  49.894133             0.032870\n",
            "2020-11-30              0.41  51.173218             0.032048\n"
          ],
          "name": "stdout"
        }
      ]
    },
    {
      "cell_type": "markdown",
      "metadata": {
        "id": "JabcFGP9xIyn"
      },
      "source": [
        "### Insight 5 Explanation\n",
        "\n",
        "This function determines the dividend yields for each stock. To get the output the user must input information first. This information includes: the number of stock they wish to compare, each stock ticker, the start and end date for the dividend yield calculation. First, we must determine whether or not a company pays out a dividend. If the company does, it calculates the Quarterly Dividend Yield for each stock. This is calculated by multiplying each dividend payout by 4, then divided that sum by the price on the day the dividend was paid to stock holders. This information is extremely valuable when considering the value of a stock. This statistic can help investors calculate the potential profit for every dollar invested."
      ]
    },
    {
      "cell_type": "markdown",
      "metadata": {
        "id": "xN58r5MNxN4m"
      },
      "source": [
        "## Data Visualizations"
      ]
    },
    {
      "cell_type": "code",
      "metadata": {
        "id": "stKXZGSnxS0f",
        "colab": {
          "base_uri": "https://localhost:8080/",
          "height": 438
        },
        "outputId": "5c4054cf-bb56-4791-a766-d99188badcb2"
      },
      "source": [
        "import datetime as dt\n",
        "import numpy as np\n",
        "import matplotlib.pyplot as plt\n",
        "def visual1():\n",
        "  tckr_list = [input(\"Input ticker of stock to visualize: \")]\n",
        "  start = dt.datetime.strptime(input(\"Enter the starting date(YYYY-MM-DD): \"), '%Y-%m-%d')\n",
        "  end = dt.datetime.strptime(input(\"Enter the ending date(YYYY-MM-DD): \"), '%Y-%m-%d')\n",
        "  returns, prices = web_parser1(tckr_list, start, end)\n",
        "  std = float(np.std(returns))\n",
        "  returns.plot(figsize = (9,6), linewidth = 1, fontsize = 14)\n",
        "  plt.axhline(y= 2*float(std), xmin = 0, xmax = 1)\n",
        "  plt.axhline(y= -2*float(std), xmin = 0, xmax = 1)\n",
        "  plt.xlabel(\"Date\")\n",
        "  plt.ylabel(tckr_list[0] + \" Daily Return\")  \n",
        "  plt.show()\n",
        "############ Function Call ############\n",
        "visual1()"
      ],
      "execution_count": null,
      "outputs": [
        {
          "output_type": "stream",
          "text": [
            "Input ticker of stock to visualize: AAPL\n",
            "Enter the starting date(YYYY-MM-DD): 2020-1-1\n",
            "Enter the ending date(YYYY-MM-DD): 2021-1-1\n"
          ],
          "name": "stdout"
        },
        {
          "output_type": "display_data",
          "data": {
            "image/png": "[encoded data removed]",
            "text/plain": [
              "<Figure size 648x432 with 1 Axes>"
            ]
          },
          "metadata": {
            "tags": [],
            "needs_background": "light"
          }
        }
      ]
    },
    {
      "cell_type": "markdown",
      "metadata": {
        "id": "-CDB8hXwxgSB"
      },
      "source": [
        "### Visualization 1 Explanation\n",
        "\n",
        "This is a Daily return visualization with standard deviation for context. We got the data for this visualization from Web_parser1. To get the output visualization the user must input information first. This information includes: the stock they wish to graph and the start and end date for the graph. Once this information has been inputed by the user, the function outputs a line graph that has the daily returns for the stock as we as a line along the positive and negative of two standard deviations. These lines help us put the returns into context and see if there are periods of volatiltiy. For the graph above of AAPL we can see that the period around March, 2020 was particulary volatile because it had many returns outside of the 2 standard deviation line. \n"
      ]
    },
    {
      "cell_type": "code",
      "metadata": {
        "id": "vACib_mBxW0E",
        "colab": {
          "base_uri": "https://localhost:8080/",
          "height": 392
        },
        "outputId": "9b449332-eb93-42aa-9e4e-fcec74115672"
      },
      "source": [
        "import datetime as dt\n",
        "import matplotlib.pyplot as plt\n",
        "\n",
        "def visual2():\n",
        "  n = int(input(\"Enter number of stocks to compare: \"))\n",
        "  tckr_list = []\n",
        "  # iterates for each tckr\n",
        "  for i in range(n):\n",
        "      ele = input(\"Ticker \" + str(i+1) + \": \")\n",
        "      tckr_list.append(ele.upper())  # adding the element\n",
        "  start =  dt.datetime.strptime(input(\"Enter the starting date(YYYY-MM-DD): \"), '%Y-%m-%d')\n",
        "  end = dt.datetime.strptime(input(\"Enter the ending date(YYYY-MM-DD): \"), '%Y-%m-%d')\n",
        "  average_dict = {}\n",
        "  for i in tckr_list:\n",
        "    avg = web_parser2(i, start, end, 'volume')[i].mean()\n",
        "    average_dict[i] = avg\n",
        "\n",
        "  keys = average_dict.keys()\n",
        "  values = average_dict.values()\n",
        "  plt.bar(keys, values)\n",
        "  plt.xlabel(\"Stock Tickers\")\n",
        "  plt.ylabel('Average Daily Volume (10s of millions)') \n",
        "############ Function Call ############\n",
        "visual2()"
      ],
      "execution_count": null,
      "outputs": [
        {
          "output_type": "stream",
          "text": [
            "Enter number of stocks to compare: 3\n",
            "Ticker 1: aapl\n",
            "Ticker 2: amzn\n",
            "Ticker 3: fb\n",
            "Enter the starting date(YYYY-MM-DD): 2020-1-1\n",
            "Enter the ending date(YYYY-MM-DD): 2021-1-1\n"
          ],
          "name": "stdout"
        },
        {
          "output_type": "display_data",
          "data": {
            "image/png": "[encoded data removed]",
            "text/plain": [
              "<Figure size 432x288 with 1 Axes>"
            ]
          },
          "metadata": {
            "tags": [],
            "needs_background": "light"
          }
        }
      ]
    },
    {
      "cell_type": "markdown",
      "metadata": {
        "id": "hbq6zDSuxg3b"
      },
      "source": [
        "### Visualization 2 Explanation\n",
        "\n",
        "\n",
        "This is a average daily volume visualization between stocks. We got the data for this visualization from insight 3. To get the output visualization the user must input information first. This information includes: the number of stock they wish to compare, each stock ticker, the start and end date for the calculation. Once this information has been inputed by the user, the function outputs a bar graph that plots the average daily volumes of the stock. This bar graph helps us visualize the differences in liquidity between stocks. This information is extremely valuable when determining whether to invest in a certain stock or not, because if a stock does not have adequate liquidity you may not be able to buy or sell the stock."
      ]
    },
    {
      "cell_type": "code",
      "metadata": {
        "id": "mOyKClx1xXOt",
        "colab": {
          "base_uri": "https://localhost:8080/",
          "height": 415
        },
        "outputId": "24d4cf58-b326-4464-a4a9-94aa03e8a07f"
      },
      "source": [
        "import datetime as dt\n",
        "import matplotlib.pyplot as plt\n",
        "import numpy as np\n",
        "\n",
        "def visual3():\n",
        "  n = int(input(\"Enter number of stocks to compare: \"))\n",
        "  tckr_list = []\n",
        "  tckr_list.append('SPY')\n",
        "  # iterates for each tckr\n",
        "  for i in range(n):\n",
        "      ele = input(\"Ticker \" + str(i+1) + \": \")\n",
        "      tckr_list.append(ele.upper())  # adding the element\n",
        "  start = dt.datetime.strptime(input(\"Enter the starting date(YYYY-MM-DD): \"), '%Y-%m-%d')\n",
        "  end = dt.datetime.strptime(input(\"Enter the ending date(YYYY-MM-DD): \"), '%Y-%m-%d')\n",
        "\n",
        "  betas = {}\n",
        "  for i in tckr_list:\n",
        "    returns, prices = web_parser1([tckr_list[0], i], start, end)\n",
        "    correlation = returns.corr(method='pearson')\n",
        "    corrcoef = correlation.iloc[0][i]\n",
        "    std_stock = np.std(returns[i])\n",
        "    std_spy = np.std(returns['SPY'])\n",
        "    beta = corrcoef *(std_stock/std_spy)\n",
        "    betas[i] = beta\n",
        "\n",
        "  keys = betas.keys()\n",
        "  values = betas.values()\n",
        "  plt.scatter(keys, values, s = 100)\n",
        "  plt.xlabel(\"Stock Tickers\")\n",
        "  plt.ylabel('Beta')\n",
        "  plt.axhline(y= 1                                                                                                        , xmin = 0, xmax = 1) \n",
        "\n",
        "############ Function Call ############\n",
        "visual3()"
      ],
      "execution_count": null,
      "outputs": [
        {
          "output_type": "stream",
          "text": [
            "Enter number of stocks to compare: 5\n",
            "Ticker 1: aapl\n",
            "Ticker 2: amzn\n",
            "Ticker 3: fb\n",
            "Ticker 4: sq\n",
            "Ticker 5: v\n",
            "Enter the starting date(YYYY-MM-DD): 2020-1-1\n",
            "Enter the ending date(YYYY-MM-DD): 2021-1-1\n"
          ],
          "name": "stdout"
        },
        {
          "output_type": "display_data",
          "data": {
            "image/png": "[encoded data removed]",
            "text/plain": [
              "<Figure size 432x288 with 1 Axes>"
            ]
          },
          "metadata": {
            "tags": [],
            "needs_background": "light"
          }
        }
      ]
    },
    {
      "cell_type": "markdown",
      "metadata": {
        "id": "YLZvX6Plxhhs"
      },
      "source": [
        "### Visualization 3 Explanation\n",
        "\n",
        "\n",
        "This is a Beta values visualization between stocks. We got the data for this visualization from insight 2. To get the output visualization the user must input information first. This information includes: the number of stock they wish to compare, each stock ticker, the start and end date for the calculation. Once this information has been inputed by the user, the function outputs a scatter plot of the different beta values of the stocks. We have also decided to include a plot of the market index beta value as well as a line across the graph at this value. This helps us visualize if a certain stock is more or less volatile than the market. A marker below the line would indicate less volatilty and a marker above the line would indicate more volatilty than the market."
      ]
    },
    {
      "cell_type": "markdown",
      "metadata": {
        "id": "vw5PqFI8xs0B"
      },
      "source": [
        "## Summary Files"
      ]
    },
    {
      "cell_type": "code",
      "metadata": {
        "id": "1U36oIX5xvlR",
        "colab": {
          "base_uri": "https://localhost:8080/",
          "height": 272
        },
        "outputId": "1a17693e-e55b-4022-bc70-ddbb660c2608"
      },
      "source": [
        "from google.colab import files\n",
        "import datetime as dt\n",
        "\n",
        "def summary1():\n",
        "  n = int(input(\"Enter number of stocks to compare: \"))\n",
        "  tckr_list = []\n",
        "  # iterates for each tckr\n",
        "  for i in range(n):\n",
        "      ele = input(\"Ticker \" + str(i+1) + \": \")\n",
        "      tckr_list.append(ele.upper())  # adding the element\n",
        "  start = dt.datetime.strptime(input(\"Enter the starting date(YYYY-MM-DD): \"), '%Y-%m-%d')\n",
        "  end = dt.datetime.strptime(input(\"Enter the ending date(YYYY-MM-DD): \"), '%Y-%m-%d')\n",
        "  returns, prices = web_parser1(tckr_list, start, end)\n",
        "  correlation_df = returns.corr(method='pearson')\n",
        "  for row in range(len(tckr_list)):\n",
        "    for col in range(len(tckr_list)):\n",
        "      if col < row:\n",
        "        correlation_df.iloc[row, col] = \"\"\n",
        "  filename = 'correlation.csv'\n",
        "  correlation_df.to_csv(filename) \n",
        "  files.download(filename)\n",
        "\n",
        "############ Function Call ############\n",
        "summary1()"
      ],
      "execution_count": null,
      "outputs": [
        {
          "output_type": "stream",
          "text": [
            "Enter number of stocks to compare: 12\n",
            "Ticker 1: aapl\n",
            "Ticker 2: amzn\n",
            "Ticker 3: spy\n",
            "Ticker 4: fb\n",
            "Ticker 5: sq\n",
            "Ticker 6: v\n",
            "Ticker 7: vz\n",
            "Ticker 8: aal\n",
            "Ticker 9: lulu\n",
            "Ticker 10: mmm\n",
            "Ticker 11: bac\n",
            "Ticker 12: tsla\n",
            "Enter the starting date(YYYY-MM-DD): 2020-1-1\n",
            "Enter the ending date(YYYY-MM-DD): 2021-1-1\n"
          ],
          "name": "stdout"
        },
        {
          "output_type": "display_data",
          "data": {
            "application/javascript": [
              "\n",
              "    async function download(id, filename, size) {\n",
              "      if (!google.colab.kernel.accessAllowed) {\n",
              "        return;\n",
              "      }\n",
              "      const div = document.createElement('div');\n",
              "      const label = document.createElement('label');\n",
              "      label.textContent = `Downloading \"${filename}\": `;\n",
              "      div.appendChild(label);\n",
              "      const progress = document.createElement('progress');\n",
              "      progress.max = size;\n",
              "      div.appendChild(progress);\n",
              "      document.body.appendChild(div);\n",
              "\n",
              "      const buffers = [];\n",
              "      let downloaded = 0;\n",
              "\n",
              "      const channel = await google.colab.kernel.comms.open(id);\n",
              "      // Send a message to notify the kernel that we're ready.\n",
              "      channel.send({})\n",
              "\n",
              "      for await (const message of channel.messages) {\n",
              "        // Send a message to notify the kernel that we're ready.\n",
              "        channel.send({})\n",
              "        if (message.buffers) {\n",
              "          for (const buffer of message.buffers) {\n",
              "            buffers.push(buffer);\n",
              "            downloaded += buffer.byteLength;\n",
              "            progress.value = downloaded;\n",
              "          }\n",
              "        }\n",
              "      }\n",
              "      const blob = new Blob(buffers, {type: 'application/binary'});\n",
              "      const a = document.createElement('a');\n",
              "      a.href = window.URL.createObjectURL(blob);\n",
              "      a.download = filename;\n",
              "      div.appendChild(a);\n",
              "      a.click();\n",
              "      div.remove();\n",
              "    }\n",
              "  "
            ],
            "text/plain": [
              "<IPython.core.display.Javascript object>"
            ]
          },
          "metadata": {
            "tags": []
          }
        },
        {
          "output_type": "display_data",
          "data": {
            "application/javascript": [
              "download(\"download_85e75782-ad0c-4d71-b6bf-bb0b71d96de6\", \"correlation.csv\", 1472)"
            ],
            "text/plain": [
              "<IPython.core.display.Javascript object>"
            ]
          },
          "metadata": {
            "tags": []
          }
        }
      ]
    },
    {
      "cell_type": "markdown",
      "metadata": {
        "id": "kd74HqEPx8zh"
      },
      "source": [
        "# Cited Sources\n",
        "\n",
        "If you used any additional sources to complete your Data Analysis section, list them here:\n",
        "\n",
        "\n",
        "*   Example Module Documentation\n",
        "*   Example Stack Overflow Assistance\n",
        "\n"
      ]
    },
    {
      "cell_type": "markdown",
      "metadata": {
        "id": "iuYbFQplyXK2"
      },
      "source": [
        "# Video Presentation\n",
        "\n",
        "If you uploaded your Video Presentation to Bluejeans, YouTube, or any other streaming services, please provide the link here:\n",
        "\n",
        "\n",
        "*   https://bluejeans.com/s/kCy3GjSlWyO\n",
        "\n",
        "\n",
        "Make sure the video sharing permissions are accessible for anyone with the provided link."
      ]
    },
    {
      "cell_type": "markdown",
      "metadata": {
        "id": "mZENd-i9cinj"
      },
      "source": [
        "# Submission\n",
        "\n",
        "Prior to submitting your notebook to Gradescope, be sure to <b>run all functions within this file</b>. We will not run your functions ourselves, so we must see your outputs within this file in order to receive full credit.\n"
      ]
    }
  ]
}